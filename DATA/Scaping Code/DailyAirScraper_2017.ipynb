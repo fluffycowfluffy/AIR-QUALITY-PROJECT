{
 "cells": [
  {
   "cell_type": "code",
   "execution_count": 1,
   "id": "a3ae3a19-23a9-4a88-90be-c4bfc18fdadd",
   "metadata": {},
   "outputs": [],
   "source": [
    "from urllib.request import urlopen"
   ]
  },
  {
   "cell_type": "code",
   "execution_count": 34,
   "id": "84868113-1035-4df8-8e93-1e4730d4c61e",
   "metadata": {},
   "outputs": [],
   "source": [
    "import re"
   ]
  },
  {
   "cell_type": "code",
   "execution_count": 35,
   "id": "02e6f25c-ed4a-4b43-9731-e9aef561b9c0",
   "metadata": {},
   "outputs": [],
   "source": [
    "import pandas as pd"
   ]
  },
  {
   "cell_type": "code",
   "execution_count": 36,
   "id": "1ecef26e-8677-4473-b48a-fc377ffffad9",
   "metadata": {},
   "outputs": [],
   "source": [
    "url = \"https://air.gov.ge/en/reports_page?station=ORN06%2CORN08%2CORN03%2CBTUM%2CORN05%2CAGMS%2CVRKT%2CORN01%2CKZBG%2CTSRT%2CORN07%2CRST18%2CORN02%2CKUTS%2CORN04&report_type=monthly&date_from=2025-01\"\n",
    "page = urlopen(url)"
   ]
  },
  {
   "cell_type": "code",
   "execution_count": 37,
   "id": "bf5dcfcc-205c-4b9d-bfea-50939eeb27f0",
   "metadata": {},
   "outputs": [],
   "source": [
    "html = page.read().decode('utf-8')"
   ]
  },
  {
   "cell_type": "code",
   "execution_count": 39,
   "id": "8617ab97-1bd3-4731-b20a-6a8d62a428a9",
   "metadata": {},
   "outputs": [],
   "source": [
    "def decodeURL(url:str) -> BeautifulSoup:\n",
    "    '''\n",
    "    Takes url, returns decoded html\n",
    "    '''\n",
    "    html = urlopen(url).read().decode('utf-8')\n",
    "    return BeautifulSoup(html, 'html.parser')"
   ]
  },
  {
   "cell_type": "code",
   "execution_count": 79,
   "id": "5e7b8aac-f35b-4184-af28-83cb58ee0610",
   "metadata": {},
   "outputs": [],
   "source": [
    "STATIONCODES = [\"ORN06\", \"ORN08\", \"ORN03\", \"BTUM\", \"ORN05\", \"AGMS\", \"VRKT\", \"ORN01\", \"KZBG\", \"TSRT\", \"ORN07\", \"RST18\", \"ORN02\", \"KUTS\", \"ORN04\"]"
   ]
  },
  {
   "cell_type": "code",
   "execution_count": 382,
   "id": "ddd1397b-8632-48f7-a7e4-0901feb8ac02",
   "metadata": {},
   "outputs": [],
   "source": [
    "from bs4 import BeautifulSoup\n",
    "from urllib.request import urlopen\n",
    "from datetime import datetime, timedelta\n",
    "from tqdm import tqdm"
   ]
  },
  {
   "cell_type": "code",
   "execution_count": 422,
   "id": "6f884e3a-ffaa-4fb8-a48a-4153198a09e2",
   "metadata": {},
   "outputs": [],
   "source": [
    "def decodeURL(url:str) -> BeautifulSoup:\n",
    "    '''\n",
    "    Takes url, returns decoded html\n",
    "    '''\n",
    "    html = urlopen(url).read().decode('utf-8')\n",
    "    return BeautifulSoup(html, 'html.parser')\n",
    "\n",
    "def readTables(tables:list[str]):\n",
    "    data = []\n",
    "    counter = 0\n",
    "    for i in range(len(tables)):\n",
    "        table = tables[i].find_all('td')\n",
    "        text = tables[i].find('th').get_text()\n",
    "        header = sortHeader(text)\n",
    "        for j in range(len(table)):\n",
    "            if j%7== 0:\n",
    "                data.extend(header)\n",
    "            data.append(table[j].get_text())\n",
    "    return data\n",
    "\n",
    "def sortHeader(text:str) -> list[str]:\n",
    "    text = text.replace('\\n', '')\n",
    "    splittext = text.split(',')\n",
    "    name = splittext[0].replace(' ', '')\n",
    "    codedate = splittext[1].split('  ')\n",
    "    code = codedate[0].replace(' ', '')\n",
    "    date = codedate[1]\n",
    "    return [name, code, date]\n",
    "\n",
    "def get_monthly_dates(start=\"2016-08\", end=\"2025-01\"):\n",
    "    start_date = datetime.strptime(start, \"%Y-%m\")\n",
    "    end_date = datetime.today().replace(day=1)  # First day of the current month\n",
    "    months = []\n",
    "    \n",
    "    while start_date <= end_date:\n",
    "        months.append(start_date.strftime(\"%Y-%m\"))\n",
    "        start_date += timedelta(days=32)\n",
    "        start_date = start_date.replace(day=1)\n",
    "    return months\n",
    "\n",
    "def createDF(url:str) -> pd.DataFrame:\n",
    "    soup = decodeURL(url)\n",
    "    data = readTables(soup.find_all('table'))\n",
    "    return pd.DataFrame(np.array(data, dtype=object).reshape(len(data)//10, 10), \n",
    "                 columns = ['name', 'code', 'year-month', 'day', 'NO<sub>2', 'SO<sub>2', 'PM2.5', 'PM10', 'O<sub>3', 'CO'])\n",
    "def run_scraper():\n",
    "    url_base = \"https://air.gov.ge/en/reports_page?station=ORN06%2CORN08%2CORN03%2CBTUM%2CORN05%2CAGMS%2CVRKT%2CORN01%2CKZBG%2CTSRT%2CORN07%2CRST18%2CORN02%2CKUTS%2CORN04&report_type=monthly&date_from=\"\n",
    "    url_dates = get_monthly_dates()\n",
    "    final_data = pd.DataFrame(columns = ['name', 'code', 'year-month', 'day', 'NO<sub>2', 'SO<sub>2', 'PM2.5', 'PM10', 'O<sub>3', 'CO'])\n",
    "    for date in tqdm(url_dates):\n",
    "        url = url_base+date\n",
    "        temp_data = createDF(url)\n",
    "        final_data = pd.concat([final_data, temp_data], ignore_index=True)\n",
    "    # final_data = final_data.reset_index()\n",
    "    final_data.to_csv('AirData.csv', sep=',')\n",
    "    return final_data"
   ]
  },
  {
   "cell_type": "code",
   "execution_count": 423,
   "id": "af9d44c8-556e-4136-ae1e-0412ead2bb31",
   "metadata": {},
   "outputs": [
    {
     "name": "stderr",
     "output_type": "stream",
     "text": [
      "100%|██████████| 103/103 [02:46<00:00,  1.62s/it]\n"
     ]
    }
   ],
   "source": [
    "data = run_scraper()"
   ]
  }
 ],
 "metadata": {
  "kernelspec": {
   "display_name": "Python 3 (ipykernel)",
   "language": "python",
   "name": "python3"
  },
  "language_info": {
   "codemirror_mode": {
    "name": "ipython",
    "version": 3
   },
   "file_extension": ".py",
   "mimetype": "text/x-python",
   "name": "python",
   "nbconvert_exporter": "python",
   "pygments_lexer": "ipython3",
   "version": "3.12.9"
  }
 },
 "nbformat": 4,
 "nbformat_minor": 5
}
